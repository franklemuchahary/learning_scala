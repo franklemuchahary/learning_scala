{
 "cells": [
  {
   "cell_type": "code",
   "execution_count": 1,
   "metadata": {},
   "outputs": [
    {
     "data": {
      "text/plain": [
       "Intitializing Scala interpreter ..."
      ]
     },
     "metadata": {},
     "output_type": "display_data"
    },
    {
     "data": {
      "text/plain": [
       "Spark Web UI available at http://frankles-air.domain.name:4041\n",
       "SparkContext available as 'sc' (version = 3.1.1, master = local[*], app id = local-1635088759410)\n",
       "SparkSession available as 'spark'\n"
      ]
     },
     "metadata": {},
     "output_type": "display_data"
    },
    {
     "name": "stdout",
     "output_type": "stream",
     "text": [
      "Let's Get Started"
     ]
    }
   ],
   "source": [
    "print(\"Let's Get Started\")"
   ]
  },
  {
   "cell_type": "markdown",
   "metadata": {},
   "source": [
    "### Classes and Objects"
   ]
  },
  {
   "cell_type": "markdown",
   "metadata": {},
   "source": [
    "**Defining classes and objects**"
   ]
  },
  {
   "cell_type": "code",
   "execution_count": 2,
   "metadata": {},
   "outputs": [
    {
     "data": {
      "text/plain": [
       "defined class Point\n"
      ]
     },
     "execution_count": 2,
     "metadata": {},
     "output_type": "execute_result"
    }
   ],
   "source": [
    "class Point(xc:Int, yc:Int){ // this itself acts as the class constructor\n",
    "    var x = xc\n",
    "    var y = yc\n",
    "    \n",
    "    // this is a method defined in scala\n",
    "    def move(dx:Int, dy:Int){\n",
    "        x += dx\n",
    "        y += dy\n",
    "        \n",
    "        println(\"New X Coordinate is: \" + x)\n",
    "        println(\"New Y Coordinate is: \" + y)\n",
    "    }\n",
    "}"
   ]
  },
  {
   "cell_type": "code",
   "execution_count": 3,
   "metadata": {},
   "outputs": [
    {
     "data": {
      "text/plain": [
       "my_obj: Point = Point@24449369\n"
      ]
     },
     "execution_count": 3,
     "metadata": {},
     "output_type": "execute_result"
    }
   ],
   "source": [
    "var my_obj = new Point(10, 20) // defining a new object using the class Point"
   ]
  },
  {
   "cell_type": "code",
   "execution_count": 4,
   "metadata": {},
   "outputs": [
    {
     "name": "stdout",
     "output_type": "stream",
     "text": [
      "(10,20)"
     ]
    }
   ],
   "source": [
    "print(my_obj.x, my_obj.y) /// accessing class variables can be done using the . operator"
   ]
  },
  {
   "cell_type": "code",
   "execution_count": 5,
   "metadata": {},
   "outputs": [
    {
     "name": "stdout",
     "output_type": "stream",
     "text": [
      "New X Coordinate is: 20\n",
      "New Y Coordinate is: 25\n"
     ]
    }
   ],
   "source": [
    "my_obj.move(10, 5) /// calling the method to change the values of x and y"
   ]
  },
  {
   "cell_type": "code",
   "execution_count": 6,
   "metadata": {},
   "outputs": [
    {
     "name": "stdout",
     "output_type": "stream",
     "text": [
      "(20,25)"
     ]
    }
   ],
   "source": [
    "print(my_obj.x, my_obj.y) /// class variables are changed after calling the method"
   ]
  },
  {
   "cell_type": "raw",
   "metadata": {},
   "source": [
    "object Test{\n",
    "    def main(args : Array[String]){\n",
    "        var my_obj = new Point(10, 20) \n",
    "        print(my_obj.x, my_obj.y)\n",
    "        my_obj.move(10, 5) \n",
    "        print(my_obj.x, my_obj.y)\n",
    "    }\n",
    "}"
   ]
  },
  {
   "cell_type": "markdown",
   "metadata": {},
   "source": [
    "**Inheritance**"
   ]
  },
  {
   "cell_type": "code",
   "execution_count": 7,
   "metadata": {},
   "outputs": [
    {
     "data": {
      "text/plain": [
       "defined class Location\n"
      ]
     },
     "execution_count": 7,
     "metadata": {},
     "output_type": "execute_result"
    }
   ],
   "source": [
    "class Location(val xc:Int, val yc:Int, val zc:Int) extends Point(xc, yc) {\n",
    "    var z = zc\n",
    "    \n",
    "    // overriding the move method\n",
    "    def move(dx:Int, dy:Int, dz:Int){\n",
    "        x += dx\n",
    "        y += dy\n",
    "        z += dz\n",
    "        \n",
    "        println(\"New X Coordinate is: \" + x)\n",
    "        println(\"New Y Coordinate is: \" + y)\n",
    "        println(\"New Z Coordinate is: \" + z)\n",
    "    }\n",
    "}"
   ]
  },
  {
   "cell_type": "code",
   "execution_count": 8,
   "metadata": {},
   "outputs": [
    {
     "data": {
      "text/plain": [
       "new_obj: Location = Location@5c274e8f\n"
      ]
     },
     "execution_count": 8,
     "metadata": {},
     "output_type": "execute_result"
    }
   ],
   "source": [
    "var new_obj = new Location(5, 10, 15)"
   ]
  },
  {
   "cell_type": "code",
   "execution_count": 9,
   "metadata": {},
   "outputs": [
    {
     "name": "stdout",
     "output_type": "stream",
     "text": [
      "(5,10,15)"
     ]
    }
   ],
   "source": [
    "print(new_obj.x, new_obj.y, new_obj.z)"
   ]
  },
  {
   "cell_type": "code",
   "execution_count": 10,
   "metadata": {},
   "outputs": [
    {
     "name": "stdout",
     "output_type": "stream",
     "text": [
      "New X Coordinate is: 10\n",
      "New Y Coordinate is: 15\n",
      "New Z Coordinate is: 20\n"
     ]
    }
   ],
   "source": [
    "new_obj.move(5, 5, 5)"
   ]
  },
  {
   "cell_type": "code",
   "execution_count": 11,
   "metadata": {},
   "outputs": [
    {
     "name": "stdout",
     "output_type": "stream",
     "text": [
      "(10,15,20)"
     ]
    }
   ],
   "source": [
    "print(new_obj.x, new_obj.y, new_obj.z)"
   ]
  }
 ],
 "metadata": {
  "kernelspec": {
   "display_name": "spylon-kernel",
   "language": "scala",
   "name": "spylon-kernel"
  },
  "language_info": {
   "codemirror_mode": "text/x-scala",
   "file_extension": ".scala",
   "help_links": [
    {
     "text": "MetaKernel Magics",
     "url": "https://metakernel.readthedocs.io/en/latest/source/README.html"
    }
   ],
   "mimetype": "text/x-scala",
   "name": "scala",
   "pygments_lexer": "scala",
   "version": "0.4.1"
  }
 },
 "nbformat": 4,
 "nbformat_minor": 4
}
