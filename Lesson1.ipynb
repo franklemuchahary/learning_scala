{
 "cells": [
  {
   "cell_type": "markdown",
   "metadata": {},
   "source": [
    "### Basics"
   ]
  },
  {
   "cell_type": "code",
   "execution_count": 1,
   "metadata": {},
   "outputs": [
    {
     "data": {
      "text/plain": [
       "Intitializing Scala interpreter ..."
      ]
     },
     "metadata": {},
     "output_type": "display_data"
    },
    {
     "data": {
      "text/plain": [
       "Spark Web UI available at http://frankles-air.domain.name:4042\n",
       "SparkContext available as 'sc' (version = 3.1.1, master = local[*], app id = local-1635088776393)\n",
       "SparkSession available as 'spark'\n"
      ]
     },
     "metadata": {},
     "output_type": "display_data"
    },
    {
     "data": {
      "text/plain": [
       "res0: Int = 2\n"
      ]
     },
     "execution_count": 1,
     "metadata": {},
     "output_type": "execute_result"
    }
   ],
   "source": [
    "1+1"
   ]
  },
  {
   "cell_type": "code",
   "execution_count": 2,
   "metadata": {},
   "outputs": [
    {
     "name": "stdout",
     "output_type": "stream",
     "text": [
      "Hello World\n",
      "Hello World"
     ]
    }
   ],
   "source": [
    "println(\"Hello World\") // has a new line (\\n) at the end\n",
    "\n",
    "print(\"Hello World\") // does not have a new line (\\n) at the end"
   ]
  },
  {
   "cell_type": "code",
   "execution_count": 3,
   "metadata": {},
   "outputs": [
    {
     "name": "stdout",
     "output_type": "stream",
     "text": [
      "Test\n",
      "Test 2\n"
     ]
    }
   ],
   "source": [
    "/* This is a \n",
    "multiline comment \n",
    "in Scala */\n",
    "println(\"Test\")\n",
    "\n",
    "// this is a single line comment in scala\n",
    "println(\"Test 2\")"
   ]
  },
  {
   "cell_type": "code",
   "execution_count": 4,
   "metadata": {},
   "outputs": [
    {
     "name": "stdout",
     "output_type": "stream",
     "text": [
      "1"
     ]
    },
    {
     "data": {
      "text/plain": [
       "x: Int = 1\n"
      ]
     },
     "execution_count": 4,
     "metadata": {},
     "output_type": "execute_result"
    }
   ],
   "source": [
    "var x = 1; print(x)"
   ]
  },
  {
   "cell_type": "code",
   "execution_count": 5,
   "metadata": {},
   "outputs": [
    {
     "data": {
      "text/plain": [
       "import scala.collection.mutable.HashMap\n"
      ]
     },
     "execution_count": 5,
     "metadata": {},
     "output_type": "execute_result"
    }
   ],
   "source": [
    "import scala.collection.mutable.HashMap"
   ]
  },
  {
   "cell_type": "code",
   "execution_count": 6,
   "metadata": {},
   "outputs": [
    {
     "data": {
      "text/plain": [
       "res4: scala.collection.mutable.HashMap.type = scala.collection.mutable.HashMap$@1d0c96e7\n"
      ]
     },
     "execution_count": 6,
     "metadata": {},
     "output_type": "execute_result"
    }
   ],
   "source": [
    "HashMap"
   ]
  },
  {
   "cell_type": "markdown",
   "metadata": {},
   "source": [
    "### Data Types and Variables"
   ]
  },
  {
   "cell_type": "markdown",
   "metadata": {},
   "source": [
    "**mutable variables**"
   ]
  },
  {
   "cell_type": "code",
   "execution_count": 7,
   "metadata": {},
   "outputs": [
    {
     "name": "stdout",
     "output_type": "stream",
     "text": [
      "my string\n"
     ]
    },
    {
     "data": {
      "text/plain": [
       "my_var: String = my string\n"
      ]
     },
     "execution_count": 7,
     "metadata": {},
     "output_type": "execute_result"
    }
   ],
   "source": [
    "var my_var : String = \"my string\"\n",
    "\n",
    "println(my_var)"
   ]
  },
  {
   "cell_type": "code",
   "execution_count": 8,
   "metadata": {},
   "outputs": [
    {
     "name": "stdout",
     "output_type": "stream",
     "text": [
      "another string\n"
     ]
    },
    {
     "data": {
      "text/plain": [
       "my_var: String = another string\n"
      ]
     },
     "execution_count": 8,
     "metadata": {},
     "output_type": "execute_result"
    }
   ],
   "source": [
    "my_var = \"another string\" \n",
    "\n",
    "println(my_var)"
   ]
  },
  {
   "cell_type": "code",
   "execution_count": 9,
   "metadata": {},
   "outputs": [
    {
     "name": "stdout",
     "output_type": "stream",
     "text": [
      "1"
     ]
    },
    {
     "data": {
      "text/plain": [
       "my_int: Int = 1\n"
      ]
     },
     "execution_count": 9,
     "metadata": {},
     "output_type": "execute_result"
    }
   ],
   "source": [
    "var my_int = 1 // not necessary to define variable data types in scala\n",
    "print(my_int)"
   ]
  },
  {
   "cell_type": "markdown",
   "metadata": {},
   "source": [
    "**check data type of variable**"
   ]
  },
  {
   "cell_type": "code",
   "execution_count": 10,
   "metadata": {},
   "outputs": [
    {
     "name": "stdout",
     "output_type": "stream",
     "text": [
      "int\n",
      "class java.lang.String\n"
     ]
    }
   ],
   "source": [
    "println(my_int.getClass)\n",
    "println(my_var.getClass)"
   ]
  },
  {
   "cell_type": "markdown",
   "metadata": {},
   "source": [
    "**non-mutable variables**"
   ]
  },
  {
   "cell_type": "code",
   "execution_count": 11,
   "metadata": {},
   "outputs": [
    {
     "name": "stdout",
     "output_type": "stream",
     "text": [
      "class java.lang.String"
     ]
    },
    {
     "data": {
      "text/plain": [
       "my_str: String = test string\n"
      ]
     },
     "execution_count": 11,
     "metadata": {},
     "output_type": "execute_result"
    }
   ],
   "source": [
    "val my_str = \"test string\"\n",
    "print(my_str.getClass)"
   ]
  },
  {
   "cell_type": "code",
   "execution_count": 12,
   "metadata": {},
   "outputs": [
    {
     "ename": "<console>",
     "evalue": "27: error: reassignment to val",
     "output_type": "error",
     "traceback": [
      "<console>:27: error: reassignment to val",
      "       my_str = \"changed string\" // cannot reassign to this variable because it is non mutable - defined using the keyword val",
      "              ^",
      ""
     ]
    }
   ],
   "source": [
    "my_str = \"changed string\" // cannot reassign to this variable because it is non mutable - defined using the keyword val"
   ]
  },
  {
   "cell_type": "markdown",
   "metadata": {},
   "source": [
    "**multiple assignments**"
   ]
  },
  {
   "cell_type": "code",
   "execution_count": 13,
   "metadata": {},
   "outputs": [
    {
     "data": {
      "text/plain": [
       "my_int1: Int = 1\n",
       "my_string1: String = my string\n"
      ]
     },
     "execution_count": 13,
     "metadata": {},
     "output_type": "execute_result"
    }
   ],
   "source": [
    "var (my_int1, my_string1) = Pair(1, \"my string\")"
   ]
  },
  {
   "cell_type": "code",
   "execution_count": 14,
   "metadata": {},
   "outputs": [
    {
     "name": "stdout",
     "output_type": "stream",
     "text": [
      "(1,my string)\n"
     ]
    }
   ],
   "source": [
    "println(my_int1, my_string1)"
   ]
  },
  {
   "cell_type": "markdown",
   "metadata": {},
   "source": [
    "**working with strings**"
   ]
  },
  {
   "cell_type": "code",
   "execution_count": 8,
   "metadata": {},
   "outputs": [
    {
     "name": "stdout",
     "output_type": "stream",
     "text": [
      "I am a beginner Scala programmer"
     ]
    },
    {
     "data": {
      "text/plain": [
       "x: String = \"I am a \"\n",
       "y: String = Scala programmer\n"
      ]
     },
     "execution_count": 8,
     "metadata": {},
     "output_type": "execute_result"
    }
   ],
   "source": [
    "var x = \"I am a \"\n",
    "var y = \"Scala programmer\"\n",
    "\n",
    "print(x + \"beginner \" + y) // string concatenation works similar to python"
   ]
  },
  {
   "cell_type": "code",
   "execution_count": 15,
   "metadata": {},
   "outputs": [
    {
     "name": "stdout",
     "output_type": "stream",
     "text": [
      "\n",
      "Multiline \n",
      "Strings can be defined \n",
      "like this\n"
     ]
    },
    {
     "data": {
      "text/plain": [
       "multiline_str: String =\n",
       "\"\n",
       "Multiline\n",
       "Strings can be defined\n",
       "like this\n",
       "\"\n"
      ]
     },
     "execution_count": 15,
     "metadata": {},
     "output_type": "execute_result"
    }
   ],
   "source": [
    "var multiline_str = \"\"\"\n",
    "Multiline \n",
    "Strings can be defined \n",
    "like this\n",
    "\"\"\"\n",
    "\n",
    "print(multiline_str)"
   ]
  },
  {
   "cell_type": "code",
   "execution_count": 19,
   "metadata": {},
   "outputs": [
    {
     "data": {
      "text/plain": [
       "x: String = I am a\n",
       "y: String = in Scala\n",
       "concat1: String = I am a beginner in Scala\n"
      ]
     },
     "execution_count": 19,
     "metadata": {},
     "output_type": "execute_result"
    }
   ],
   "source": [
    "/// string concatenation can also be done like this in scala using variables as placeholders\n",
    "\n",
    "var x = \"I am a\"\n",
    "var y = \"in Scala\"\n",
    "\n",
    "var concat1 = s\"$x beginner $y\" "
   ]
  },
  {
   "cell_type": "code",
   "execution_count": 21,
   "metadata": {},
   "outputs": [
    {
     "data": {
      "text/plain": [
       "x: String = Frankle is a\n",
       "y: String = in Scala\n",
       "concat2: String = Frankle is a beginner in Scala\n"
      ]
     },
     "execution_count": 21,
     "metadata": {},
     "output_type": "execute_result"
    }
   ],
   "source": [
    "/// more string concatenation\n",
    "var x = \"Frankle is a\"\n",
    "var y = \"in Scala\"\n",
    "\n",
    "var concat2 = s\"${x} beginner ${y}\""
   ]
  },
  {
   "cell_type": "code",
   "execution_count": 22,
   "metadata": {},
   "outputs": [
    {
     "name": "stdout",
     "output_type": "stream",
     "text": [
      "I have a total of 60 fruits. 50 Bananas and 10 Mangoes"
     ]
    },
    {
     "data": {
      "text/plain": [
       "a: Int = 50\n",
       "b: Int = 10\n",
       "concat3: String = I have a total of 60 fruits. 50 Bananas and 10 Mangoes\n"
      ]
     },
     "execution_count": 22,
     "metadata": {},
     "output_type": "execute_result"
    }
   ],
   "source": [
    "/// major use of this curly brace syntax is that we can put expressions inside curly braces\n",
    "\n",
    "var a = 50\n",
    "var b = 10\n",
    "\n",
    "var concat3 = s\"I have a total of ${a+b} fruits. $a Bananas and $b Mangoes\"\n",
    "print(concat3)"
   ]
  },
  {
   "cell_type": "markdown",
   "metadata": {},
   "source": [
    "**Reading Inputs**"
   ]
  },
  {
   "cell_type": "raw",
   "metadata": {},
   "source": [
    "import scala.io.StdIn.readLine\n",
    "\n",
    "/// this will not work on jupyter notebooks\n",
    "val firstName = readLine()"
   ]
  },
  {
   "cell_type": "code",
   "execution_count": null,
   "metadata": {},
   "outputs": [],
   "source": []
  }
 ],
 "metadata": {
  "kernelspec": {
   "display_name": "spylon-kernel",
   "language": "scala",
   "name": "spylon-kernel"
  },
  "language_info": {
   "codemirror_mode": "text/x-scala",
   "file_extension": ".scala",
   "help_links": [
    {
     "text": "MetaKernel Magics",
     "url": "https://metakernel.readthedocs.io/en/latest/source/README.html"
    }
   ],
   "mimetype": "text/x-scala",
   "name": "scala",
   "pygments_lexer": "scala",
   "version": "0.4.1"
  }
 },
 "nbformat": 4,
 "nbformat_minor": 4
}
