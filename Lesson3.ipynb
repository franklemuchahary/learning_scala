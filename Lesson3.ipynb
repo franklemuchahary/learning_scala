{
 "cells": [
  {
   "cell_type": "markdown",
   "metadata": {},
   "source": [
    "### Conditionals"
   ]
  },
  {
   "cell_type": "code",
   "execution_count": 1,
   "metadata": {},
   "outputs": [
    {
     "data": {
      "text/plain": [
       "Intitializing Scala interpreter ..."
      ]
     },
     "metadata": {},
     "output_type": "display_data"
    },
    {
     "data": {
      "text/plain": [
       "Spark Web UI available at http://frankles-air.domain.name:4040\n",
       "SparkContext available as 'sc' (version = 3.1.1, master = local[*], app id = local-1635086524143)\n",
       "SparkSession available as 'spark'\n"
      ]
     },
     "metadata": {},
     "output_type": "display_data"
    },
    {
     "name": "stdout",
     "output_type": "stream",
     "text": [
      "Test"
     ]
    }
   ],
   "source": [
    "print(\"Test\")"
   ]
  },
  {
   "cell_type": "code",
   "execution_count": 2,
   "metadata": {},
   "outputs": [
    {
     "name": "stdout",
     "output_type": "stream",
     "text": [
      "Greater than 5"
     ]
    },
    {
     "data": {
      "text/plain": [
       "x: Int = 10\n"
      ]
     },
     "execution_count": 2,
     "metadata": {},
     "output_type": "execute_result"
    }
   ],
   "source": [
    "/// if else construct\n",
    "var x = 10\n",
    "\n",
    "if (x > 5){\n",
    "  print(\"Greater than 5\")  \n",
    "} else{\n",
    "  print(\"Less than 5\")  \n",
    "}"
   ]
  },
  {
   "cell_type": "code",
   "execution_count": 3,
   "metadata": {},
   "outputs": [
    {
     "name": "stdout",
     "output_type": "stream",
     "text": [
      "Between 5 and 8"
     ]
    },
    {
     "data": {
      "text/plain": [
       "x: Int = 7\n"
      ]
     },
     "execution_count": 3,
     "metadata": {},
     "output_type": "execute_result"
    }
   ],
   "source": [
    "/// if elseif else construct \n",
    "\n",
    "var x = 7\n",
    "\n",
    "if (x < 5){\n",
    "  print(\"Less than 5\")  \n",
    "} else if (x >= 5 && x <= 8){\n",
    "  print(\"Between 5 and 8\")  \n",
    "} else{\n",
    "  print(\"Greater than 8\")  \n",
    "}"
   ]
  },
  {
   "cell_type": "code",
   "execution_count": 4,
   "metadata": {},
   "outputs": [
    {
     "name": "stdout",
     "output_type": "stream",
     "text": [
      "0"
     ]
    },
    {
     "data": {
      "text/plain": [
       "x: Int = 3\n",
       "result: Int = 0\n"
      ]
     },
     "execution_count": 4,
     "metadata": {},
     "output_type": "execute_result"
    }
   ],
   "source": [
    "/// functional style if else\n",
    "x = 3\n",
    "\n",
    "var result = if (x > 5) x else 0 \n",
    "print(result)"
   ]
  },
  {
   "cell_type": "markdown",
   "metadata": {},
   "source": [
    "### For Loops"
   ]
  },
  {
   "cell_type": "code",
   "execution_count": 5,
   "metadata": {},
   "outputs": [
    {
     "name": "stdout",
     "output_type": "stream",
     "text": [
      "class scala.collection.immutable.$colon$colon2\n",
      "4\n",
      "6\n",
      "8\n",
      "10\n"
     ]
    },
    {
     "data": {
      "text/plain": [
       "range: Seq[Int] = List(1, 2, 3, 4, 5, 6, 7, 8, 9, 10)\n"
      ]
     },
     "execution_count": 5,
     "metadata": {},
     "output_type": "execute_result"
    }
   ],
   "source": [
    "/// looping through a sequence\n",
    "\n",
    "val range = Seq(1,2,3,4,5,6,7,8,9,10)\n",
    "\n",
    "print(range.getClass)\n",
    "\n",
    "for (i <- range){\n",
    "    if(i%2 == 0){\n",
    "          println(i)       \n",
    "    }\n",
    "}"
   ]
  },
  {
   "cell_type": "code",
   "execution_count": 6,
   "metadata": {},
   "outputs": [
    {
     "name": "stdout",
     "output_type": "stream",
     "text": [
      "class scala.collection.immutable.Range$Inclusive100\n",
      "102\n",
      "104\n",
      "106\n",
      "108\n",
      "110\n"
     ]
    },
    {
     "data": {
      "text/plain": [
       "r: scala.collection.immutable.Range.Inclusive = Range 100 to 110\n"
      ]
     },
     "execution_count": 6,
     "metadata": {},
     "output_type": "execute_result"
    }
   ],
   "source": [
    "/// setting a range to loop through \n",
    "\n",
    "var r = 100 to 110\n",
    "print(r.getClass)\n",
    "\n",
    "for (i <- r){\n",
    "    if (i%2 == 0){\n",
    "        println(i)\n",
    "    }\n",
    "}"
   ]
  },
  {
   "cell_type": "code",
   "execution_count": 7,
   "metadata": {},
   "outputs": [
    {
     "name": "stdout",
     "output_type": "stream",
     "text": [
      "class scala.collection.immutable.Range1\n",
      "2\n",
      "3\n",
      "4\n",
      "5\n",
      "6\n",
      "7\n",
      "8\n",
      "9\n"
     ]
    },
    {
     "data": {
      "text/plain": [
       "r: scala.collection.immutable.Range = Range 1 until 10\n"
      ]
     },
     "execution_count": 7,
     "metadata": {},
     "output_type": "execute_result"
    }
   ],
   "source": [
    "/// setting a range to loop through \n",
    "\n",
    "var r = 1 until 10\n",
    "print(r.getClass)\n",
    "\n",
    "for (i <- r){\n",
    "    println(i)\n",
    "}"
   ]
  },
  {
   "cell_type": "markdown",
   "metadata": {},
   "source": [
    "### For Expressions"
   ]
  },
  {
   "cell_type": "code",
   "execution_count": 8,
   "metadata": {},
   "outputs": [
    {
     "name": "stdout",
     "output_type": "stream",
     "text": [
      "List(2, 4, 6)\n",
      "List(6, 8)\n"
     ]
    },
    {
     "data": {
      "text/plain": [
       "r: List[Int] = List(1, 2, 3, 4, 5, 6, 7, 8, 9, 10)\n",
       "res1: List[Int] = List(2, 4, 6)\n",
       "res2: List[Int] = List(6, 8)\n"
      ]
     },
     "execution_count": 8,
     "metadata": {},
     "output_type": "execute_result"
    }
   ],
   "source": [
    "/// yield keyword works similar to list comprehension in python - not like how python yield works\n",
    "\n",
    "var r = List(1,2,3,4,5,6,7,8,9,10)\n",
    "\n",
    "var res1 = for {i <- r if (i%2 == 0) && (i < 8)} yield i /// returns a List\n",
    "println(res1)\n",
    "\n",
    "var res2 = for {i <- r if i%2 == 0 ; if i > 5; if i < 10} yield i /// returns a List\n",
    "println(res2)"
   ]
  },
  {
   "cell_type": "code",
   "execution_count": 9,
   "metadata": {},
   "outputs": [
    {
     "data": {
      "text/plain": [
       "r: List[String] = List(new delhi, new york, london)\n",
       "res8: List[String] = List(NEW DELHI, NEW YORK, LONDON)\n"
      ]
     },
     "execution_count": 9,
     "metadata": {},
     "output_type": "execute_result"
    }
   ],
   "source": [
    "var r = List(\"new delhi\", \"new york\", \"london\")\n",
    "\n",
    "for (text <- r) yield text.toUpperCase"
   ]
  },
  {
   "cell_type": "code",
   "execution_count": 10,
   "metadata": {},
   "outputs": [
    {
     "name": "stdout",
     "output_type": "stream",
     "text": [
      "List(Tokyo, Vancouver, London)"
     ]
    },
    {
     "data": {
      "text/plain": [
       "r: List[String] = List(_tokyo, _vancouver, _london)\n",
       "clean_names: List[String] = List(Tokyo, Vancouver, London)\n"
      ]
     },
     "execution_count": 10,
     "metadata": {},
     "output_type": "execute_result"
    }
   ],
   "source": [
    "var r = List(\"_tokyo\", \"_vancouver\", \"_london\")\n",
    "\n",
    "val clean_names = for (text <- r) yield {\n",
    "    val clean = text.drop(1)\n",
    "    val result = clean.capitalize\n",
    "    result\n",
    "}\n",
    "\n",
    "print(clean_names)"
   ]
  },
  {
   "cell_type": "markdown",
   "metadata": {},
   "source": [
    "### Foreach"
   ]
  },
  {
   "cell_type": "code",
   "execution_count": 11,
   "metadata": {},
   "outputs": [
    {
     "name": "stdout",
     "output_type": "stream",
     "text": [
      "(B,20)\n",
      "(C,30)\n"
     ]
    },
    {
     "data": {
      "text/plain": [
       "test_map: scala.collection.immutable.Map[String,Int] = Map(A -> 10, B -> 20, C -> 30)\n"
      ]
     },
     "execution_count": 11,
     "metadata": {},
     "output_type": "execute_result"
    }
   ],
   "source": [
    "/// looping through multiple things together\n",
    "var test_map = Map(\n",
    "    \"A\" -> 10,\n",
    "    \"B\" -> 20,\n",
    "    \"C\" -> 30\n",
    ")\n",
    "\n",
    "for ((text, num) <- test_map){\n",
    "    if (text != \"A\"){\n",
    "            println(text, num)\n",
    "    }\n",
    "}"
   ]
  },
  {
   "cell_type": "code",
   "execution_count": 12,
   "metadata": {},
   "outputs": [
    {
     "name": "stdout",
     "output_type": "stream",
     "text": [
      "A -> 10\n",
      "B -> 20\n",
      "C -> 30\n"
     ]
    }
   ],
   "source": [
    "test_map.foreach{\n",
    "    case(text, num) => println(s\"$text -> $num\")\n",
    "}"
   ]
  },
  {
   "cell_type": "markdown",
   "metadata": {},
   "source": [
    "### Switch Case"
   ]
  },
  {
   "cell_type": "code",
   "execution_count": 57,
   "metadata": {},
   "outputs": [
    {
     "name": "stdout",
     "output_type": "stream",
     "text": [
      "Three\n",
      "Not Among Options\n"
     ]
    },
    {
     "data": {
      "text/plain": [
       "match_val: (x: Int)String\n"
      ]
     },
     "execution_count": 57,
     "metadata": {},
     "output_type": "execute_result"
    }
   ],
   "source": [
    "/// a basic match case within a function\n",
    "\n",
    "def match_val(x:Int): String = {\n",
    "    x match {\n",
    "        case 1 => \"One\"\n",
    "        case 2 => \"Two\"\n",
    "        case 3 => \"Three\"\n",
    "        case _ => \"Not Among Options\"\n",
    "    }\n",
    "}\n",
    "\n",
    "println(match_val(3))\n",
    "println(match_val(10))"
   ]
  },
  {
   "cell_type": "code",
   "execution_count": 43,
   "metadata": {},
   "outputs": [
    {
     "name": "stdout",
     "output_type": "stream",
     "text": [
      "true\n",
      "100\n"
     ]
    },
    {
     "data": {
      "text/plain": [
       "import scala.util.control.Breaks._\n",
       "prime_check: (num: Int)Boolean\n"
      ]
     },
     "execution_count": 43,
     "metadata": {},
     "output_type": "execute_result"
    }
   ],
   "source": [
    "import scala.util.control.Breaks._ // have to import this to be able to use break in loops\n",
    "\n",
    "def prime_check(num : Int): Boolean = {\n",
    "    for (i <- 2 to num){\n",
    "        if(num%i == 0 & i!=num){\n",
    "            return false\n",
    "        }else{\n",
    "           return true \n",
    "        }\n",
    "    }\n",
    "    return false\n",
    "}\n",
    "\n",
    "println(prime_check(7))\n",
    "\n",
    "if (prime_check(8)){\n",
    "    println(1)\n",
    "}\n",
    "\n",
    "if (prime_check(7)){\n",
    "    println(100)\n",
    "}"
   ]
  },
  {
   "cell_type": "code",
   "execution_count": 56,
   "metadata": {},
   "outputs": [
    {
     "name": "stdout",
     "output_type": "stream",
     "text": [
      "Prime and Greater than 10\n",
      "Entered 1 or 0\n",
      "Entered a number divisible by 2 or 3\n",
      "Not in options\n"
     ]
    },
    {
     "data": {
      "text/plain": [
       "check_match: (x: Int)String\n"
      ]
     },
     "execution_count": 56,
     "metadata": {},
     "output_type": "execute_result"
    }
   ],
   "source": [
    "// more complex match-case with if else, conditionals and function calls\n",
    "\n",
    "def check_match(x:Int):String = x match {\n",
    "    case 1 | 0 => \"Entered 1 or 0\"\n",
    "    case x if (x%2==0 | x%3==0) & x <= 10 => \"Entered a number divisible by 2 or 3\"\n",
    "    case x if x > 10 & prime_check(x) => \"Prime and Greater than 10\"\n",
    "    case _ => \"Not in options\"\n",
    "}\n",
    "\n",
    "println(check_match(11))\n",
    "\n",
    "println(check_match(1))\n",
    "\n",
    "println(check_match(6))\n",
    "\n",
    "println(check_match(100))"
   ]
  }
 ],
 "metadata": {
  "kernelspec": {
   "display_name": "spylon-kernel",
   "language": "scala",
   "name": "spylon-kernel"
  },
  "language_info": {
   "codemirror_mode": "text/x-scala",
   "file_extension": ".scala",
   "help_links": [
    {
     "text": "MetaKernel Magics",
     "url": "https://metakernel.readthedocs.io/en/latest/source/README.html"
    }
   ],
   "mimetype": "text/x-scala",
   "name": "scala",
   "pygments_lexer": "scala",
   "version": "0.4.1"
  }
 },
 "nbformat": 4,
 "nbformat_minor": 4
}
