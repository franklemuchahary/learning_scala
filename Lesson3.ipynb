{
 "cells": [
  {
   "cell_type": "markdown",
   "metadata": {},
   "source": [
    "### Conditionals"
   ]
  },
  {
   "cell_type": "code",
   "execution_count": 1,
   "metadata": {},
   "outputs": [
    {
     "data": {
      "text/plain": [
       "Intitializing Scala interpreter ..."
      ]
     },
     "metadata": {},
     "output_type": "display_data"
    },
    {
     "data": {
      "text/plain": [
       "Spark Web UI available at http://frankles-air.domain.name:4040\n",
       "SparkContext available as 'sc' (version = 3.1.1, master = local[*], app id = local-1635086524143)\n",
       "SparkSession available as 'spark'\n"
      ]
     },
     "metadata": {},
     "output_type": "display_data"
    },
    {
     "name": "stdout",
     "output_type": "stream",
     "text": [
      "Test"
     ]
    }
   ],
   "source": [
    "print(\"Test\")"
   ]
  },
  {
   "cell_type": "code",
   "execution_count": 2,
   "metadata": {},
   "outputs": [
    {
     "name": "stdout",
     "output_type": "stream",
     "text": [
      "Greater than 5"
     ]
    },
    {
     "data": {
      "text/plain": [
       "x: Int = 10\n"
      ]
     },
     "execution_count": 2,
     "metadata": {},
     "output_type": "execute_result"
    }
   ],
   "source": [
    "/// if else construct\n",
    "var x = 10\n",
    "\n",
    "if (x > 5){\n",
    "  print(\"Greater than 5\")  \n",
    "} else{\n",
    "  print(\"Less than 5\")  \n",
    "}"
   ]
  },
  {
   "cell_type": "code",
   "execution_count": 3,
   "metadata": {},
   "outputs": [
    {
     "name": "stdout",
     "output_type": "stream",
     "text": [
      "Between 5 and 8"
     ]
    },
    {
     "data": {
      "text/plain": [
       "x: Int = 7\n"
      ]
     },
     "execution_count": 3,
     "metadata": {},
     "output_type": "execute_result"
    }
   ],
   "source": [
    "/// if elseif else construct \n",
    "\n",
    "var x = 7\n",
    "\n",
    "if (x < 5){\n",
    "  print(\"Less than 5\")  \n",
    "} else if (x >= 5 && x <= 8){\n",
    "  print(\"Between 5 and 8\")  \n",
    "} else{\n",
    "  print(\"Greater than 8\")  \n",
    "}"
   ]
  },
  {
   "cell_type": "code",
   "execution_count": 4,
   "metadata": {},
   "outputs": [
    {
     "name": "stdout",
     "output_type": "stream",
     "text": [
      "0"
     ]
    },
    {
     "data": {
      "text/plain": [
       "x: Int = 3\n",
       "result: Int = 0\n"
      ]
     },
     "execution_count": 4,
     "metadata": {},
     "output_type": "execute_result"
    }
   ],
   "source": [
    "/// functional style if else\n",
    "x = 3\n",
    "\n",
    "var result = if (x > 5) x else 0 \n",
    "print(result)"
   ]
  },
  {
   "cell_type": "markdown",
   "metadata": {},
   "source": [
    "### For Loops"
   ]
  },
  {
   "cell_type": "code",
   "execution_count": 5,
   "metadata": {},
   "outputs": [
    {
     "name": "stdout",
     "output_type": "stream",
     "text": [
      "class scala.collection.immutable.$colon$colon2\n",
      "4\n",
      "6\n",
      "8\n",
      "10\n"
     ]
    },
    {
     "data": {
      "text/plain": [
       "range: Seq[Int] = List(1, 2, 3, 4, 5, 6, 7, 8, 9, 10)\n"
      ]
     },
     "execution_count": 5,
     "metadata": {},
     "output_type": "execute_result"
    }
   ],
   "source": [
    "/// looping through a sequence\n",
    "\n",
    "val range = Seq(1,2,3,4,5,6,7,8,9,10)\n",
    "\n",
    "print(range.getClass)\n",
    "\n",
    "for (i <- range){\n",
    "    if(i%2 == 0){\n",
    "          println(i)       \n",
    "    }\n",
    "}"
   ]
  },
  {
   "cell_type": "code",
   "execution_count": 6,
   "metadata": {},
   "outputs": [
    {
     "name": "stdout",
     "output_type": "stream",
     "text": [
      "class scala.collection.immutable.Range$Inclusive100\n",
      "102\n",
      "104\n",
      "106\n",
      "108\n",
      "110\n"
     ]
    },
    {
     "data": {
      "text/plain": [
       "r: scala.collection.immutable.Range.Inclusive = Range 100 to 110\n"
      ]
     },
     "execution_count": 6,
     "metadata": {},
     "output_type": "execute_result"
    }
   ],
   "source": [
    "/// setting a range to loop through \n",
    "\n",
    "var r = 100 to 110\n",
    "print(r.getClass)\n",
    "\n",
    "for (i <- r){\n",
    "    if (i%2 == 0){\n",
    "        println(i)\n",
    "    }\n",
    "}"
   ]
  },
  {
   "cell_type": "code",
   "execution_count": 7,
   "metadata": {},
   "outputs": [
    {
     "name": "stdout",
     "output_type": "stream",
     "text": [
      "class scala.collection.immutable.Range1\n",
      "2\n",
      "3\n",
      "4\n",
      "5\n",
      "6\n",
      "7\n",
      "8\n",
      "9\n"
     ]
    },
    {
     "data": {
      "text/plain": [
       "r: scala.collection.immutable.Range = Range 1 until 10\n"
      ]
     },
     "execution_count": 7,
     "metadata": {},
     "output_type": "execute_result"
    }
   ],
   "source": [
    "/// setting a range to loop through \n",
    "\n",
    "var r = 1 until 10\n",
    "print(r.getClass)\n",
    "\n",
    "for (i <- r){\n",
    "    println(i)\n",
    "}"
   ]
  },
  {
   "cell_type": "markdown",
   "metadata": {},
   "source": [
    "### For Expressions"
   ]
  },
  {
   "cell_type": "code",
   "execution_count": 8,
   "metadata": {},
   "outputs": [
    {
     "name": "stdout",
     "output_type": "stream",
     "text": [
      "List(2, 4, 6)\n",
      "List(6, 8)\n"
     ]
    },
    {
     "data": {
      "text/plain": [
       "r: List[Int] = List(1, 2, 3, 4, 5, 6, 7, 8, 9, 10)\n",
       "res1: List[Int] = List(2, 4, 6)\n",
       "res2: List[Int] = List(6, 8)\n"
      ]
     },
     "execution_count": 8,
     "metadata": {},
     "output_type": "execute_result"
    }
   ],
   "source": [
    "/// yield keyword works similar to list comprehension in python - not like how python yield works\n",
    "\n",
    "var r = List(1,2,3,4,5,6,7,8,9,10)\n",
    "\n",
    "var res1 = for {i <- r if (i%2 == 0) && (i < 8)} yield i /// returns a List\n",
    "println(res1)\n",
    "\n",
    "var res2 = for {i <- r if i%2 == 0 ; if i > 5; if i < 10} yield i /// returns a List\n",
    "println(res2)"
   ]
  },
  {
   "cell_type": "code",
   "execution_count": 9,
   "metadata": {},
   "outputs": [
    {
     "data": {
      "text/plain": [
       "r: List[String] = List(new delhi, new york, london)\n",
       "res8: List[String] = List(NEW DELHI, NEW YORK, LONDON)\n"
      ]
     },
     "execution_count": 9,
     "metadata": {},
     "output_type": "execute_result"
    }
   ],
   "source": [
    "var r = List(\"new delhi\", \"new york\", \"london\")\n",
    "\n",
    "for (text <- r) yield text.toUpperCase"
   ]
  },
  {
   "cell_type": "code",
   "execution_count": 10,
   "metadata": {},
   "outputs": [
    {
     "name": "stdout",
     "output_type": "stream",
     "text": [
      "List(Tokyo, Vancouver, London)"
     ]
    },
    {
     "data": {
      "text/plain": [
       "r: List[String] = List(_tokyo, _vancouver, _london)\n",
       "clean_names: List[String] = List(Tokyo, Vancouver, London)\n"
      ]
     },
     "execution_count": 10,
     "metadata": {},
     "output_type": "execute_result"
    }
   ],
   "source": [
    "var r = List(\"_tokyo\", \"_vancouver\", \"_london\")\n",
    "\n",
    "val clean_names = for (text <- r) yield {\n",
    "    val clean = text.drop(1)\n",
    "    val result = clean.capitalize\n",
    "    result\n",
    "}\n",
    "\n",
    "print(clean_names)"
   ]
  },
  {
   "cell_type": "markdown",
   "metadata": {},
   "source": [
    "### Foreach"
   ]
  },
  {
   "cell_type": "code",
   "execution_count": 11,
   "metadata": {},
   "outputs": [
    {
     "name": "stdout",
     "output_type": "stream",
     "text": [
      "(B,20)\n",
      "(C,30)\n"
     ]
    },
    {
     "data": {
      "text/plain": [
       "test_map: scala.collection.immutable.Map[String,Int] = Map(A -> 10, B -> 20, C -> 30)\n"
      ]
     },
     "execution_count": 11,
     "metadata": {},
     "output_type": "execute_result"
    }
   ],
   "source": [
    "/// looping through multiple things together\n",
    "var test_map = Map(\n",
    "    \"A\" -> 10,\n",
    "    \"B\" -> 20,\n",
    "    \"C\" -> 30\n",
    ")\n",
    "\n",
    "for ((text, num) <- test_map){\n",
    "    if (text != \"A\"){\n",
    "            println(text, num)\n",
    "    }\n",
    "}"
   ]
  },
  {
   "cell_type": "code",
   "execution_count": 12,
   "metadata": {},
   "outputs": [
    {
     "name": "stdout",
     "output_type": "stream",
     "text": [
      "A -> 10\n",
      "B -> 20\n",
      "C -> 30\n"
     ]
    }
   ],
   "source": [
    "test_map.foreach{\n",
    "    case(text, num) => println(s\"$text -> $num\")\n",
    "}"
   ]
  },
  {
   "cell_type": "markdown",
   "metadata": {},
   "source": [
    "### Switch Case"
   ]
  }
 ],
 "metadata": {
  "kernelspec": {
   "display_name": "spylon-kernel",
   "language": "scala",
   "name": "spylon-kernel"
  },
  "language_info": {
   "codemirror_mode": "text/x-scala",
   "file_extension": ".scala",
   "help_links": [
    {
     "text": "MetaKernel Magics",
     "url": "https://metakernel.readthedocs.io/en/latest/source/README.html"
    }
   ],
   "mimetype": "text/x-scala",
   "name": "scala",
   "pygments_lexer": "scala",
   "version": "0.4.1"
  }
 },
 "nbformat": 4,
 "nbformat_minor": 4
}
