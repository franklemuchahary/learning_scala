{
 "cells": [
  {
   "cell_type": "markdown",
   "id": "3a6d3485-4a1a-4170-986d-93439f8d1bee",
   "metadata": {},
   "source": [
    "# Lists and Operations on Lists"
   ]
  },
  {
   "cell_type": "code",
   "execution_count": 1,
   "id": "68e5e626-3b6d-4c8c-ba84-196d36ff55c9",
   "metadata": {},
   "outputs": [
    {
     "data": {
      "text/plain": [
       "Intitializing Scala interpreter ..."
      ]
     },
     "metadata": {},
     "output_type": "display_data"
    },
    {
     "data": {
      "text/plain": [
       "Spark Web UI available at http://frankles-air.domain.name:4042\n",
       "SparkContext available as 'sc' (version = 3.1.1, master = local[*], app id = local-1635099810549)\n",
       "SparkSession available as 'spark'\n"
      ]
     },
     "metadata": {},
     "output_type": "display_data"
    },
    {
     "name": "stdout",
     "output_type": "stream",
     "text": [
      "Test\n"
     ]
    }
   ],
   "source": [
    "println(\"Test\")"
   ]
  },
  {
   "cell_type": "markdown",
   "id": "6aeaec78-cca8-4e75-bdcb-23991ee844f0",
   "metadata": {},
   "source": [
    "### Defining a List and Accessing Elements"
   ]
  },
  {
   "cell_type": "code",
   "execution_count": 3,
   "id": "5af00599-5c23-412f-b32b-a0b025367ef7",
   "metadata": {},
   "outputs": [
    {
     "data": {
      "text/plain": [
       "my_list: List[Int] = List(1, 2, 3, 4)\n"
      ]
     },
     "execution_count": 3,
     "metadata": {},
     "output_type": "execute_result"
    }
   ],
   "source": [
    "var my_list = List(1,2,3,4)"
   ]
  },
  {
   "cell_type": "code",
   "execution_count": 7,
   "id": "c6f3d316-4bc1-427f-bfd0-55a96ceb2759",
   "metadata": {},
   "outputs": [
    {
     "data": {
      "text/plain": [
       "res2: Int = 2\n"
      ]
     },
     "execution_count": 7,
     "metadata": {},
     "output_type": "execute_result"
    }
   ],
   "source": [
    "my_list(1)"
   ]
  },
  {
   "cell_type": "code",
   "execution_count": 24,
   "id": "22890975-6fe0-4873-a2de-51617f34f57e",
   "metadata": {},
   "outputs": [
    {
     "name": "stdout",
     "output_type": "stream",
     "text": [
      "List(1, 2)\n",
      "List(4)\n",
      "List(2, 3)"
     ]
    }
   ],
   "source": [
    "/// take from left side of list\n",
    "println(my_list.take(2))\n",
    "\n",
    "// take from right side of the list\n",
    "println(my_list.takeRight(1))\n",
    "\n",
    "// take slices from anywhere in the list \n",
    "print(my_list.slice(1,3))"
   ]
  },
  {
   "cell_type": "markdown",
   "id": "75431cec-7443-461a-83b4-397dfd5a8c2a",
   "metadata": {},
   "source": [
    "### Looping through a list"
   ]
  },
  {
   "cell_type": "code",
   "execution_count": 31,
   "id": "12d88626-e8c8-4ffd-b8a4-c47b193e0397",
   "metadata": {},
   "outputs": [
    {
     "name": "stdout",
     "output_type": "stream",
     "text": [
      "1\n",
      "2\n",
      "3\n",
      "4\n"
     ]
    }
   ],
   "source": [
    "for (elem <- my_list){\n",
    "    println(elem)\n",
    "}"
   ]
  },
  {
   "cell_type": "code",
   "execution_count": 32,
   "id": "c0078697-6911-4338-bd86-76a9589f8cf4",
   "metadata": {},
   "outputs": [
    {
     "name": "stdout",
     "output_type": "stream",
     "text": [
      "(1,0)\n",
      "(2,1)\n",
      "(3,2)\n",
      "(4,3)\n"
     ]
    }
   ],
   "source": [
    "/// iterate with indexes, python equivalent of enumerate\n",
    "for ((elem, idx) <- my_list.zipWithIndex){\n",
    "    println(elem, idx)\n",
    "}"
   ]
  },
  {
   "cell_type": "code",
   "execution_count": 44,
   "id": "e1015286-258d-4a60-b5d9-d9ff7c9f477a",
   "metadata": {},
   "outputs": [
    {
     "name": "stdout",
     "output_type": "stream",
     "text": [
      "(1,a)\n",
      "(2,b)\n",
      "(3,c)\n",
      "(4,d)\n"
     ]
    },
    {
     "data": {
      "text/plain": [
       "my_list_v2: List[String] = List(a, b, c, d)\n"
      ]
     },
     "execution_count": 44,
     "metadata": {},
     "output_type": "execute_result"
    }
   ],
   "source": [
    "var my_list_v2: List[String] = List(\"a\",\"b\",\"c\",\"d\") // lists can also be defined with static types\n",
    "\n",
    "// loop through multiple lists simultaneously\n",
    "for ((i,j) <- my_list zip my_list_v2){\n",
    "        println(i,j)\n",
    "}"
   ]
  },
  {
   "cell_type": "markdown",
   "id": "f5d3a47d-9106-4dab-bc8e-eb10bab6885d",
   "metadata": {},
   "source": [
    "### Appending Values to a List"
   ]
  },
  {
   "cell_type": "code",
   "execution_count": 53,
   "id": "f16919db-688e-4938-a594-9b78bdc492c0",
   "metadata": {},
   "outputs": [
    {
     "data": {
      "text/plain": [
       "my_list_v3: List[Int] = List(10, 3)\n",
       "my_list_v3: List[Int] = List(10, 3)\n",
       "my_list_v3: List[Int] = List(10, 3)\n"
      ]
     },
     "execution_count": 53,
     "metadata": {},
     "output_type": "execute_result"
    }
   ],
   "source": [
    "var my_list_v3: List[Int] = List()\n",
    "\n",
    "my_list_v3 = 3 +: my_list_v3 \n",
    "my_list_v3 = 10 +: my_list_v3"
   ]
  },
  {
   "cell_type": "code",
   "execution_count": 73,
   "id": "020a35b0-0531-40db-b96d-2829970224f2",
   "metadata": {},
   "outputs": [
    {
     "data": {
      "text/plain": [
       "res55: List[Int] = List(50, 10, 3)\n"
      ]
     },
     "execution_count": 73,
     "metadata": {},
     "output_type": "execute_result"
    }
   ],
   "source": [
    "/// prepending to left -> notice how the + sign is on the left\n",
    "/// should ideally only prepend to a list as appending is a slow operation\n",
    "50 +: my_list_v3"
   ]
  },
  {
   "cell_type": "code",
   "execution_count": 74,
   "id": "8554c8a2-f4e0-4460-92cb-11962bd85bcf",
   "metadata": {},
   "outputs": [
    {
     "data": {
      "text/plain": [
       "res56: List[Int] = List(10, 3, 30)\n"
      ]
     },
     "execution_count": 74,
     "metadata": {},
     "output_type": "execute_result"
    }
   ],
   "source": [
    "/// appending to left -> notice how the + sign is also on the right\n",
    "my_list_v3 :+ 30"
   ]
  },
  {
   "cell_type": "code",
   "execution_count": 75,
   "id": "90ae579e-0a0c-4562-927d-69a75fcda71c",
   "metadata": {},
   "outputs": [
    {
     "data": {
      "text/plain": [
       "res57: List[Any] = List(10, 3, List(1, 2))\n"
      ]
     },
     "execution_count": 75,
     "metadata": {},
     "output_type": "execute_result"
    }
   ],
   "source": [
    "// append a list to a list\n",
    "my_list_v3 :+ List(1,2)"
   ]
  },
  {
   "cell_type": "code",
   "execution_count": 76,
   "id": "cdc42099-727d-4e07-aa4d-3ceaa752a5e1",
   "metadata": {},
   "outputs": [
    {
     "data": {
      "text/plain": [
       "res58: List[Int] = List(10, 3, 1, 2)\n"
      ]
     },
     "execution_count": 76,
     "metadata": {},
     "output_type": "execute_result"
    }
   ],
   "source": [
    "// extend an existing list -> syntax is a little different in this case,\n",
    "// the ++ sign remains on the same side, only the direction of the new list to extend changes\n",
    "my_list_v3 ++: List(1,2)"
   ]
  },
  {
   "cell_type": "code",
   "execution_count": 77,
   "id": "d1862ef1-6f86-4387-acc4-3abf1562a093",
   "metadata": {},
   "outputs": [
    {
     "data": {
      "text/plain": [
       "res59: List[Int] = List(1, 2, 10, 3)\n"
      ]
     },
     "execution_count": 77,
     "metadata": {},
     "output_type": "execute_result"
    }
   ],
   "source": [
    "// the ++ sign remains on the same side, only the direction of the new list to extend changes\n",
    "List(1,2) ++: my_list_v3"
   ]
  }
 ],
 "metadata": {
  "kernelspec": {
   "display_name": "spylon-kernel",
   "language": "scala",
   "name": "spylon-kernel"
  },
  "language_info": {
   "codemirror_mode": "text/x-scala",
   "file_extension": ".scala",
   "help_links": [
    {
     "text": "MetaKernel Magics",
     "url": "https://metakernel.readthedocs.io/en/latest/source/README.html"
    }
   ],
   "mimetype": "text/x-scala",
   "name": "scala",
   "pygments_lexer": "scala",
   "version": "0.4.1"
  }
 },
 "nbformat": 4,
 "nbformat_minor": 5
}
